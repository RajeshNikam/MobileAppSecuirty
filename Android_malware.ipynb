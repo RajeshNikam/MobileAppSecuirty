{
 "cells": [
  {
   "cell_type": "code",
   "execution_count": 1,
   "metadata": {},
   "outputs": [],
   "source": [
    "import pandas as pd"
   ]
  },
  {
   "cell_type": "code",
   "execution_count": 6,
   "metadata": {},
   "outputs": [
    {
     "data": {
      "text/plain": [
       "(24864928, 11)"
      ]
     },
     "execution_count": 6,
     "metadata": {},
     "output_type": "execute_result"
    }
   ],
   "source": [
    "df = pd.read_csv(\"C:\\Lab\\Android_malware.csv\")\n",
    "df.shape"
   ]
  },
  {
   "cell_type": "code",
   "execution_count": 7,
   "metadata": {},
   "outputs": [
    {
     "data": {
      "text/html": [
       "<div>\n",
       "<style scoped>\n",
       "    .dataframe tbody tr th:only-of-type {\n",
       "        vertical-align: middle;\n",
       "    }\n",
       "\n",
       "    .dataframe tbody tr th {\n",
       "        vertical-align: top;\n",
       "    }\n",
       "\n",
       "    .dataframe thead th {\n",
       "        text-align: right;\n",
       "    }\n",
       "</style>\n",
       "<table border=\"1\" class=\"dataframe\">\n",
       "  <thead>\n",
       "    <tr style=\"text-align: right;\">\n",
       "      <th></th>\n",
       "      <th>sha256</th>\n",
       "      <th>sha1</th>\n",
       "      <th>md5</th>\n",
       "      <th>dex_date</th>\n",
       "      <th>apk_size</th>\n",
       "      <th>pkg_name</th>\n",
       "      <th>vercode</th>\n",
       "      <th>vt_detection</th>\n",
       "      <th>vt_scan_date</th>\n",
       "      <th>dex_size</th>\n",
       "      <th>markets</th>\n",
       "    </tr>\n",
       "  </thead>\n",
       "  <tbody>\n",
       "    <tr>\n",
       "      <th>0</th>\n",
       "      <td>0000003B455A6C7AF837EF90F2EAFFD856E3B5CF49F5E2...</td>\n",
       "      <td>9C14D537A7ADB4CFC43D291352F73E05E0CCDD4A</td>\n",
       "      <td>3EDFC78AB53521942798AD551027D04F</td>\n",
       "      <td>2016-04-05 17:58:46</td>\n",
       "      <td>10386469</td>\n",
       "      <td>com.zte.bamachaye</td>\n",
       "      <td>121.0</td>\n",
       "      <td>0.0</td>\n",
       "      <td>2016-06-15 15:26:44</td>\n",
       "      <td>4765888</td>\n",
       "      <td>anzhi</td>\n",
       "    </tr>\n",
       "    <tr>\n",
       "      <th>1</th>\n",
       "      <td>0000014A634DB98F85038B833A8DFC50D5FB13A464E0B2...</td>\n",
       "      <td>C3EBEC52C9388BF67479FF1385A56C59B3E39E81</td>\n",
       "      <td>0A146750FB447CF3859C9CB659AB04F1</td>\n",
       "      <td>2014-08-20 13:58:10</td>\n",
       "      <td>3537486</td>\n",
       "      <td>com.tanersenel.onlinetvizle</td>\n",
       "      <td>16.0</td>\n",
       "      <td>0.0</td>\n",
       "      <td>2016-11-20 10:26:31</td>\n",
       "      <td>3170096</td>\n",
       "      <td>PlayDrone</td>\n",
       "    </tr>\n",
       "    <tr>\n",
       "      <th>2</th>\n",
       "      <td>000001A94F46A0C3DDA514E1F24E675648835BBA5EF3C3...</td>\n",
       "      <td>C0444D784685EFE5F6D9F28683B24B5873E509CB</td>\n",
       "      <td>EC82771AE018B93AD784A1FD2B625216</td>\n",
       "      <td>1980-01-01 00:00:00</td>\n",
       "      <td>52469861</td>\n",
       "      <td>com.firstchoice.myfirstchoice</td>\n",
       "      <td>1206145.0</td>\n",
       "      <td>0.0</td>\n",
       "      <td>2021-03-17 08:02:21</td>\n",
       "      <td>9201656</td>\n",
       "      <td>play.google.com</td>\n",
       "    </tr>\n",
       "    <tr>\n",
       "      <th>3</th>\n",
       "      <td>000002B63FAD4B030787F6DE4081DC1E12325026EB7DDA...</td>\n",
       "      <td>DD723B32EDD9F70AADBD66846621967157DF9BD4</td>\n",
       "      <td>985E601C17F0A9346590AE92A5AD664E</td>\n",
       "      <td>1980-01-01 00:00:00</td>\n",
       "      <td>4300370</td>\n",
       "      <td>com.deperu.sitiosarequipa</td>\n",
       "      <td>10000.0</td>\n",
       "      <td>0.0</td>\n",
       "      <td>2017-12-03 06:50:28</td>\n",
       "      <td>4211104</td>\n",
       "      <td>play.google.com</td>\n",
       "    </tr>\n",
       "    <tr>\n",
       "      <th>4</th>\n",
       "      <td>000003D3981DC548A772A30D688F424CFB88561A63A2DD...</td>\n",
       "      <td>6AE9F138F7E0C63E5D58CC7E82FB05A50F041637</td>\n",
       "      <td>F4789023733E41EE883208ACBC956020</td>\n",
       "      <td>1980-01-01 00:00:00</td>\n",
       "      <td>12958838</td>\n",
       "      <td>com.safetravels.safetravelsmain</td>\n",
       "      <td>400125.0</td>\n",
       "      <td>0.0</td>\n",
       "      <td>2019-06-25 08:55:42</td>\n",
       "      <td>7813520</td>\n",
       "      <td>play.google.com</td>\n",
       "    </tr>\n",
       "  </tbody>\n",
       "</table>\n",
       "</div>"
      ],
      "text/plain": [
       "                                              sha256  \\\n",
       "0  0000003B455A6C7AF837EF90F2EAFFD856E3B5CF49F5E2...   \n",
       "1  0000014A634DB98F85038B833A8DFC50D5FB13A464E0B2...   \n",
       "2  000001A94F46A0C3DDA514E1F24E675648835BBA5EF3C3...   \n",
       "3  000002B63FAD4B030787F6DE4081DC1E12325026EB7DDA...   \n",
       "4  000003D3981DC548A772A30D688F424CFB88561A63A2DD...   \n",
       "\n",
       "                                       sha1                               md5  \\\n",
       "0  9C14D537A7ADB4CFC43D291352F73E05E0CCDD4A  3EDFC78AB53521942798AD551027D04F   \n",
       "1  C3EBEC52C9388BF67479FF1385A56C59B3E39E81  0A146750FB447CF3859C9CB659AB04F1   \n",
       "2  C0444D784685EFE5F6D9F28683B24B5873E509CB  EC82771AE018B93AD784A1FD2B625216   \n",
       "3  DD723B32EDD9F70AADBD66846621967157DF9BD4  985E601C17F0A9346590AE92A5AD664E   \n",
       "4  6AE9F138F7E0C63E5D58CC7E82FB05A50F041637  F4789023733E41EE883208ACBC956020   \n",
       "\n",
       "              dex_date  apk_size                         pkg_name    vercode  \\\n",
       "0  2016-04-05 17:58:46  10386469                com.zte.bamachaye      121.0   \n",
       "1  2014-08-20 13:58:10   3537486      com.tanersenel.onlinetvizle       16.0   \n",
       "2  1980-01-01 00:00:00  52469861    com.firstchoice.myfirstchoice  1206145.0   \n",
       "3  1980-01-01 00:00:00   4300370        com.deperu.sitiosarequipa    10000.0   \n",
       "4  1980-01-01 00:00:00  12958838  com.safetravels.safetravelsmain   400125.0   \n",
       "\n",
       "   vt_detection         vt_scan_date  dex_size          markets  \n",
       "0           0.0  2016-06-15 15:26:44   4765888            anzhi  \n",
       "1           0.0  2016-11-20 10:26:31   3170096        PlayDrone  \n",
       "2           0.0  2021-03-17 08:02:21   9201656  play.google.com  \n",
       "3           0.0  2017-12-03 06:50:28   4211104  play.google.com  \n",
       "4           0.0  2019-06-25 08:55:42   7813520  play.google.com  "
      ]
     },
     "execution_count": 7,
     "metadata": {},
     "output_type": "execute_result"
    }
   ],
   "source": [
    "df.head()"
   ]
  },
  {
   "cell_type": "code",
   "execution_count": 10,
   "metadata": {},
   "outputs": [
    {
     "data": {
      "text/plain": [
       "Index(['sha256', 'sha1', 'md5', 'dex_date', 'apk_size', 'pkg_name', 'vercode',\n",
       "       'vt_detection', 'vt_scan_date', 'dex_size', 'markets'],\n",
       "      dtype='object')"
      ]
     },
     "execution_count": 10,
     "metadata": {},
     "output_type": "execute_result"
    }
   ],
   "source": [
    "df.columns"
   ]
  },
  {
   "cell_type": "code",
   "execution_count": 11,
   "metadata": {},
   "outputs": [
    {
     "data": {
      "text/plain": [
       "8819917"
      ]
     },
     "execution_count": 11,
     "metadata": {},
     "output_type": "execute_result"
    }
   ],
   "source": [
    "df['pkg_name'].nunique()"
   ]
  },
  {
   "cell_type": "code",
   "execution_count": 12,
   "metadata": {},
   "outputs": [],
   "source": [
    "market_counts = df['markets'].value_counts()\n",
    "total_apps = len(df)\n",
    "market_percentages = (market_counts / total_apps) * 100\n",
    "\n",
    "# Create a DataFrame for the results\n",
    "market_stats = pd.DataFrame({\n",
    "    'Count': market_counts,\n",
    "    'Percentage': market_percentages\n",
    "})\n",
    "\n",
    "# Sort in descending order by count\n",
    "market_stats = market_stats.sort_values(by='Count', ascending=False)"
   ]
  },
  {
   "cell_type": "code",
   "execution_count": 14,
   "metadata": {},
   "outputs": [
    {
     "data": {
      "text/html": [
       "<div>\n",
       "<style scoped>\n",
       "    .dataframe tbody tr th:only-of-type {\n",
       "        vertical-align: middle;\n",
       "    }\n",
       "\n",
       "    .dataframe tbody tr th {\n",
       "        vertical-align: top;\n",
       "    }\n",
       "\n",
       "    .dataframe thead th {\n",
       "        text-align: right;\n",
       "    }\n",
       "</style>\n",
       "<table border=\"1\" class=\"dataframe\">\n",
       "  <thead>\n",
       "    <tr style=\"text-align: right;\">\n",
       "      <th></th>\n",
       "      <th>Count</th>\n",
       "      <th>Percentage</th>\n",
       "    </tr>\n",
       "    <tr>\n",
       "      <th>markets</th>\n",
       "      <th></th>\n",
       "      <th></th>\n",
       "    </tr>\n",
       "  </thead>\n",
       "  <tbody>\n",
       "    <tr>\n",
       "      <th>play.google.com</th>\n",
       "      <td>20515183</td>\n",
       "      <td>82.506505</td>\n",
       "    </tr>\n",
       "    <tr>\n",
       "      <th>anzhi</th>\n",
       "      <td>1027489</td>\n",
       "      <td>4.132282</td>\n",
       "    </tr>\n",
       "    <tr>\n",
       "      <th>appchina</th>\n",
       "      <td>961962</td>\n",
       "      <td>3.868750</td>\n",
       "    </tr>\n",
       "    <tr>\n",
       "      <th>PlayDrone|play.google.com</th>\n",
       "      <td>623702</td>\n",
       "      <td>2.508360</td>\n",
       "    </tr>\n",
       "    <tr>\n",
       "      <th>play.google.com|PlayDrone</th>\n",
       "      <td>620766</td>\n",
       "      <td>2.496553</td>\n",
       "    </tr>\n",
       "    <tr>\n",
       "      <th>VirusShare</th>\n",
       "      <td>366632</td>\n",
       "      <td>1.474495</td>\n",
       "    </tr>\n",
       "    <tr>\n",
       "      <th>PlayDrone</th>\n",
       "      <td>146075</td>\n",
       "      <td>0.587474</td>\n",
       "    </tr>\n",
       "    <tr>\n",
       "      <th>mi.com</th>\n",
       "      <td>91761</td>\n",
       "      <td>0.369038</td>\n",
       "    </tr>\n",
       "    <tr>\n",
       "      <th>fdroid</th>\n",
       "      <td>68240</td>\n",
       "      <td>0.274443</td>\n",
       "    </tr>\n",
       "    <tr>\n",
       "      <th>slideme</th>\n",
       "      <td>45251</td>\n",
       "      <td>0.181987</td>\n",
       "    </tr>\n",
       "    <tr>\n",
       "      <th>angeeks</th>\n",
       "      <td>42543</td>\n",
       "      <td>0.171096</td>\n",
       "    </tr>\n",
       "    <tr>\n",
       "      <th>play.google.com|appchina</th>\n",
       "      <td>39891</td>\n",
       "      <td>0.160431</td>\n",
       "    </tr>\n",
       "    <tr>\n",
       "      <th>appchina|play.google.com</th>\n",
       "      <td>39605</td>\n",
       "      <td>0.159281</td>\n",
       "    </tr>\n",
       "    <tr>\n",
       "      <th>anzhi|appchina</th>\n",
       "      <td>30125</td>\n",
       "      <td>0.121155</td>\n",
       "    </tr>\n",
       "    <tr>\n",
       "      <th>appchina|anzhi</th>\n",
       "      <td>29989</td>\n",
       "      <td>0.120608</td>\n",
       "    </tr>\n",
       "    <tr>\n",
       "      <th>1mobile</th>\n",
       "      <td>29801</td>\n",
       "      <td>0.119852</td>\n",
       "    </tr>\n",
       "    <tr>\n",
       "      <th>praguard</th>\n",
       "      <td>10173</td>\n",
       "      <td>0.040913</td>\n",
       "    </tr>\n",
       "    <tr>\n",
       "      <th>unknown</th>\n",
       "      <td>9900</td>\n",
       "      <td>0.039815</td>\n",
       "    </tr>\n",
       "    <tr>\n",
       "      <th>VirusShare|appchina</th>\n",
       "      <td>8056</td>\n",
       "      <td>0.032399</td>\n",
       "    </tr>\n",
       "    <tr>\n",
       "      <th>appchina|VirusShare</th>\n",
       "      <td>7922</td>\n",
       "      <td>0.031860</td>\n",
       "    </tr>\n",
       "  </tbody>\n",
       "</table>\n",
       "</div>"
      ],
      "text/plain": [
       "                              Count  Percentage\n",
       "markets                                        \n",
       "play.google.com            20515183   82.506505\n",
       "anzhi                       1027489    4.132282\n",
       "appchina                     961962    3.868750\n",
       "PlayDrone|play.google.com    623702    2.508360\n",
       "play.google.com|PlayDrone    620766    2.496553\n",
       "VirusShare                   366632    1.474495\n",
       "PlayDrone                    146075    0.587474\n",
       "mi.com                        91761    0.369038\n",
       "fdroid                        68240    0.274443\n",
       "slideme                       45251    0.181987\n",
       "angeeks                       42543    0.171096\n",
       "play.google.com|appchina      39891    0.160431\n",
       "appchina|play.google.com      39605    0.159281\n",
       "anzhi|appchina                30125    0.121155\n",
       "appchina|anzhi                29989    0.120608\n",
       "1mobile                       29801    0.119852\n",
       "praguard                      10173    0.040913\n",
       "unknown                        9900    0.039815\n",
       "VirusShare|appchina            8056    0.032399\n",
       "appchina|VirusShare            7922    0.031860"
      ]
     },
     "execution_count": 14,
     "metadata": {},
     "output_type": "execute_result"
    }
   ],
   "source": [
    "market_stats.head(20)"
   ]
  },
  {
   "cell_type": "code",
   "execution_count": 15,
   "metadata": {},
   "outputs": [
    {
     "data": {
      "text/plain": [
       "pandas.core.series.Series"
      ]
     },
     "execution_count": 15,
     "metadata": {},
     "output_type": "execute_result"
    }
   ],
   "source": [
    "type(market_counts)"
   ]
  },
  {
   "cell_type": "code",
   "execution_count": 16,
   "metadata": {},
   "outputs": [],
   "source": [
    "vt_counts = df['vt_detection'].value_counts()\n",
    "vt_stats = pd.DataFrame({\n",
    "    'Count': vt_counts,\n",
    "})\n",
    "vt_stats = vt_stats.sort_values(by='Count', ascending=False)"
   ]
  },
  {
   "cell_type": "code",
   "execution_count": 17,
   "metadata": {},
   "outputs": [
    {
     "data": {
      "text/html": [
       "<div>\n",
       "<style scoped>\n",
       "    .dataframe tbody tr th:only-of-type {\n",
       "        vertical-align: middle;\n",
       "    }\n",
       "\n",
       "    .dataframe tbody tr th {\n",
       "        vertical-align: top;\n",
       "    }\n",
       "\n",
       "    .dataframe thead th {\n",
       "        text-align: right;\n",
       "    }\n",
       "</style>\n",
       "<table border=\"1\" class=\"dataframe\">\n",
       "  <thead>\n",
       "    <tr style=\"text-align: right;\">\n",
       "      <th></th>\n",
       "      <th>Count</th>\n",
       "    </tr>\n",
       "    <tr>\n",
       "      <th>vt_detection</th>\n",
       "      <th></th>\n",
       "    </tr>\n",
       "  </thead>\n",
       "  <tbody>\n",
       "    <tr>\n",
       "      <th>0.0</th>\n",
       "      <td>20865978</td>\n",
       "    </tr>\n",
       "    <tr>\n",
       "      <th>1.0</th>\n",
       "      <td>1476528</td>\n",
       "    </tr>\n",
       "    <tr>\n",
       "      <th>2.0</th>\n",
       "      <td>374378</td>\n",
       "    </tr>\n",
       "    <tr>\n",
       "      <th>3.0</th>\n",
       "      <td>197096</td>\n",
       "    </tr>\n",
       "    <tr>\n",
       "      <th>4.0</th>\n",
       "      <td>152681</td>\n",
       "    </tr>\n",
       "    <tr>\n",
       "      <th>5.0</th>\n",
       "      <td>149480</td>\n",
       "    </tr>\n",
       "    <tr>\n",
       "      <th>6.0</th>\n",
       "      <td>139641</td>\n",
       "    </tr>\n",
       "    <tr>\n",
       "      <th>7.0</th>\n",
       "      <td>126833</td>\n",
       "    </tr>\n",
       "    <tr>\n",
       "      <th>8.0</th>\n",
       "      <td>110330</td>\n",
       "    </tr>\n",
       "    <tr>\n",
       "      <th>9.0</th>\n",
       "      <td>88320</td>\n",
       "    </tr>\n",
       "    <tr>\n",
       "      <th>10.0</th>\n",
       "      <td>71758</td>\n",
       "    </tr>\n",
       "    <tr>\n",
       "      <th>14.0</th>\n",
       "      <td>64134</td>\n",
       "    </tr>\n",
       "    <tr>\n",
       "      <th>11.0</th>\n",
       "      <td>63752</td>\n",
       "    </tr>\n",
       "    <tr>\n",
       "      <th>13.0</th>\n",
       "      <td>62234</td>\n",
       "    </tr>\n",
       "    <tr>\n",
       "      <th>15.0</th>\n",
       "      <td>58729</td>\n",
       "    </tr>\n",
       "    <tr>\n",
       "      <th>12.0</th>\n",
       "      <td>58402</td>\n",
       "    </tr>\n",
       "    <tr>\n",
       "      <th>16.0</th>\n",
       "      <td>49246</td>\n",
       "    </tr>\n",
       "    <tr>\n",
       "      <th>17.0</th>\n",
       "      <td>41352</td>\n",
       "    </tr>\n",
       "    <tr>\n",
       "      <th>18.0</th>\n",
       "      <td>37270</td>\n",
       "    </tr>\n",
       "    <tr>\n",
       "      <th>19.0</th>\n",
       "      <td>34480</td>\n",
       "    </tr>\n",
       "  </tbody>\n",
       "</table>\n",
       "</div>"
      ],
      "text/plain": [
       "                 Count\n",
       "vt_detection          \n",
       "0.0           20865978\n",
       "1.0            1476528\n",
       "2.0             374378\n",
       "3.0             197096\n",
       "4.0             152681\n",
       "5.0             149480\n",
       "6.0             139641\n",
       "7.0             126833\n",
       "8.0             110330\n",
       "9.0              88320\n",
       "10.0             71758\n",
       "14.0             64134\n",
       "11.0             63752\n",
       "13.0             62234\n",
       "15.0             58729\n",
       "12.0             58402\n",
       "16.0             49246\n",
       "17.0             41352\n",
       "18.0             37270\n",
       "19.0             34480"
      ]
     },
     "execution_count": 17,
     "metadata": {},
     "output_type": "execute_result"
    }
   ],
   "source": [
    "vt_stats.head(20)"
   ]
  },
  {
   "cell_type": "code",
   "execution_count": 18,
   "metadata": {},
   "outputs": [
    {
     "data": {
      "text/plain": [
       "(835200, 11)"
      ]
     },
     "execution_count": 18,
     "metadata": {},
     "output_type": "execute_result"
    }
   ],
   "source": [
    "df_detected = df[df['vt_detection'] >= 10]\n",
    "df_detected.shape"
   ]
  },
  {
   "cell_type": "code",
   "execution_count": 20,
   "metadata": {},
   "outputs": [
    {
     "data": {
      "text/plain": [
       "(835200, 9)"
      ]
     },
     "execution_count": 20,
     "metadata": {},
     "output_type": "execute_result"
    }
   ],
   "source": [
    "df_detected = df_detected.drop(columns=['sha1', 'md5'])\n",
    "df_detected.shape"
   ]
  },
  {
   "cell_type": "code",
   "execution_count": 21,
   "metadata": {},
   "outputs": [
    {
     "data": {
      "text/plain": [
       "Index(['sha256', 'dex_date', 'apk_size', 'pkg_name', 'vercode', 'vt_detection',\n",
       "       'vt_scan_date', 'dex_size', 'markets'],\n",
       "      dtype='object')"
      ]
     },
     "execution_count": 21,
     "metadata": {},
     "output_type": "execute_result"
    }
   ],
   "source": [
    "df_detected.columns"
   ]
  },
  {
   "cell_type": "code",
   "execution_count": 22,
   "metadata": {},
   "outputs": [],
   "source": [
    "unique_df = df_detected.drop_duplicates(subset='sha256', keep='first')"
   ]
  },
  {
   "cell_type": "code",
   "execution_count": 23,
   "metadata": {},
   "outputs": [
    {
     "data": {
      "text/plain": [
       "(835200, 9)"
      ]
     },
     "execution_count": 23,
     "metadata": {},
     "output_type": "execute_result"
    }
   ],
   "source": [
    "unique_df.shape"
   ]
  },
  {
   "cell_type": "code",
   "execution_count": 24,
   "metadata": {},
   "outputs": [],
   "source": [
    "df_detected.to_csv(\"android_malware_apps.csv\", index=False)"
   ]
  },
  {
   "cell_type": "code",
   "execution_count": 25,
   "metadata": {},
   "outputs": [],
   "source": [
    "unique_df['vt_scan_date'] = pd.to_datetime(unique_df['vt_scan_date'])  \n",
    "\n",
    "# Extract the year from the 'vt_scan_date'\n",
    "unique_df['year'] = unique_df['vt_scan_date'].dt.year  \n",
    "\n",
    "# Count the occurrences of each year\n",
    "date_distribution = unique_df['year'].value_counts().sort_index()"
   ]
  },
  {
   "cell_type": "code",
   "execution_count": 26,
   "metadata": {},
   "outputs": [
    {
     "data": {
      "text/plain": [
       "year\n",
       "2011         1\n",
       "2012       450\n",
       "2013     61168\n",
       "2014    166190\n",
       "2015     80465\n",
       "2016    203478\n",
       "2017     24460\n",
       "2018     62017\n",
       "2019     95425\n",
       "2020     34353\n",
       "2021     66797\n",
       "2022     37828\n",
       "2023      1660\n",
       "2024       908\n",
       "Name: count, dtype: int64"
      ]
     },
     "execution_count": 26,
     "metadata": {},
     "output_type": "execute_result"
    }
   ],
   "source": [
    "date_distribution"
   ]
  },
  {
   "cell_type": "code",
   "execution_count": 27,
   "metadata": {},
   "outputs": [],
   "source": [
    "unique_df.to_csv(\"android_malware_apps.csv\", index=False)"
   ]
  },
  {
   "cell_type": "code",
   "execution_count": 28,
   "metadata": {},
   "outputs": [
    {
     "data": {
      "text/plain": [
       "(40396, 10)"
      ]
     },
     "execution_count": 28,
     "metadata": {},
     "output_type": "execute_result"
    }
   ],
   "source": [
    "df_3Y = unique_df[unique_df['year']>2021]\n",
    "df_3Y.shape\n"
   ]
  },
  {
   "cell_type": "code",
   "execution_count": 29,
   "metadata": {},
   "outputs": [],
   "source": [
    "df_3Y.to_csv(\"android_malware_apps_3_years.csv\", index=False)"
   ]
  },
  {
   "cell_type": "code",
   "execution_count": 30,
   "metadata": {},
   "outputs": [
    {
     "data": {
      "text/html": [
       "<div>\n",
       "<style scoped>\n",
       "    .dataframe tbody tr th:only-of-type {\n",
       "        vertical-align: middle;\n",
       "    }\n",
       "\n",
       "    .dataframe tbody tr th {\n",
       "        vertical-align: top;\n",
       "    }\n",
       "\n",
       "    .dataframe thead th {\n",
       "        text-align: right;\n",
       "    }\n",
       "</style>\n",
       "<table border=\"1\" class=\"dataframe\">\n",
       "  <thead>\n",
       "    <tr style=\"text-align: right;\">\n",
       "      <th></th>\n",
       "      <th>Count</th>\n",
       "    </tr>\n",
       "    <tr>\n",
       "      <th>pkg_name</th>\n",
       "      <th></th>\n",
       "    </tr>\n",
       "  </thead>\n",
       "  <tbody>\n",
       "    <tr>\n",
       "      <th>com.xgbuy.xg</th>\n",
       "      <td>824</td>\n",
       "    </tr>\n",
       "    <tr>\n",
       "      <th>com.qihoo.appstore</th>\n",
       "      <td>661</td>\n",
       "    </tr>\n",
       "    <tr>\n",
       "      <th>com.longbok.kuplay</th>\n",
       "      <td>239</td>\n",
       "    </tr>\n",
       "    <tr>\n",
       "      <th>com.zu.zu</th>\n",
       "      <td>183</td>\n",
       "    </tr>\n",
       "    <tr>\n",
       "      <th>ch.nth.android.contentabo_l01_sim_univ</th>\n",
       "      <td>180</td>\n",
       "    </tr>\n",
       "    <tr>\n",
       "      <th>com.videowallpaper.engine</th>\n",
       "      <td>103</td>\n",
       "    </tr>\n",
       "    <tr>\n",
       "      <th>com.cocosxyx.bbbql</th>\n",
       "      <td>91</td>\n",
       "    </tr>\n",
       "    <tr>\n",
       "      <th>com.esbook.reader</th>\n",
       "      <td>84</td>\n",
       "    </tr>\n",
       "    <tr>\n",
       "      <th>com.lushi.zhuanbao</th>\n",
       "      <td>60</td>\n",
       "    </tr>\n",
       "    <tr>\n",
       "      <th>com.excelliance.dualaid</th>\n",
       "      <td>55</td>\n",
       "    </tr>\n",
       "    <tr>\n",
       "      <th>com.lazadios.applio</th>\n",
       "      <td>47</td>\n",
       "    </tr>\n",
       "    <tr>\n",
       "      <th>com.perception.soc.en</th>\n",
       "      <td>44</td>\n",
       "    </tr>\n",
       "    <tr>\n",
       "      <th>com.robinmx.pos</th>\n",
       "      <td>41</td>\n",
       "    </tr>\n",
       "    <tr>\n",
       "      <th>com.intensive.sound</th>\n",
       "      <td>40</td>\n",
       "    </tr>\n",
       "    <tr>\n",
       "      <th>com.nowsecure.android.vts</th>\n",
       "      <td>37</td>\n",
       "    </tr>\n",
       "    <tr>\n",
       "      <th>com.real.real</th>\n",
       "      <td>36</td>\n",
       "    </tr>\n",
       "    <tr>\n",
       "      <th>com.goyal.website2apk</th>\n",
       "      <td>33</td>\n",
       "    </tr>\n",
       "    <tr>\n",
       "      <th>com.sogou.androidtool</th>\n",
       "      <td>32</td>\n",
       "    </tr>\n",
       "    <tr>\n",
       "      <th>com.cdnb.w003</th>\n",
       "      <td>32</td>\n",
       "    </tr>\n",
       "    <tr>\n",
       "      <th>com.juzifenqi.app</th>\n",
       "      <td>26</td>\n",
       "    </tr>\n",
       "  </tbody>\n",
       "</table>\n",
       "</div>"
      ],
      "text/plain": [
       "                                        Count\n",
       "pkg_name                                     \n",
       "com.xgbuy.xg                              824\n",
       "com.qihoo.appstore                        661\n",
       "com.longbok.kuplay                        239\n",
       "com.zu.zu                                 183\n",
       "ch.nth.android.contentabo_l01_sim_univ    180\n",
       "com.videowallpaper.engine                 103\n",
       "com.cocosxyx.bbbql                         91\n",
       "com.esbook.reader                          84\n",
       "com.lushi.zhuanbao                         60\n",
       "com.excelliance.dualaid                    55\n",
       "com.lazadios.applio                        47\n",
       "com.perception.soc.en                      44\n",
       "com.robinmx.pos                            41\n",
       "com.intensive.sound                        40\n",
       "com.nowsecure.android.vts                  37\n",
       "com.real.real                              36\n",
       "com.goyal.website2apk                      33\n",
       "com.sogou.androidtool                      32\n",
       "com.cdnb.w003                              32\n",
       "com.juzifenqi.app                          26"
      ]
     },
     "execution_count": 30,
     "metadata": {},
     "output_type": "execute_result"
    }
   ],
   "source": [
    "pkg_counts = df_3Y['pkg_name'].value_counts()\n",
    "pkg_stats = pd.DataFrame({\n",
    "    'Count': pkg_counts,\n",
    "})\n",
    "pkg_stats = pkg_stats.sort_values(by='Count', ascending=False)\n",
    "pkg_stats.head(20)"
   ]
  },
  {
   "cell_type": "code",
   "execution_count": 31,
   "metadata": {},
   "outputs": [
    {
     "data": {
      "text/plain": [
       "31150"
      ]
     },
     "execution_count": 31,
     "metadata": {},
     "output_type": "execute_result"
    }
   ],
   "source": [
    "df_3Y['pkg_name'].nunique()"
   ]
  },
  {
   "cell_type": "code",
   "execution_count": null,
   "metadata": {},
   "outputs": [],
   "source": []
  }
 ],
 "metadata": {
  "kernelspec": {
   "display_name": "base",
   "language": "python",
   "name": "python3"
  },
  "language_info": {
   "codemirror_mode": {
    "name": "ipython",
    "version": 3
   },
   "file_extension": ".py",
   "mimetype": "text/x-python",
   "name": "python",
   "nbconvert_exporter": "python",
   "pygments_lexer": "ipython3",
   "version": "3.11.7"
  }
 },
 "nbformat": 4,
 "nbformat_minor": 2
}
